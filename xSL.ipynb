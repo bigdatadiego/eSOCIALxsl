{
 "cells": [
  {
   "cell_type": "code",
   "execution_count": null,
   "metadata": {},
   "outputs": [],
   "source": [
    "%pip install xmlschema"
   ]
  },
  {
   "cell_type": "code",
   "execution_count": null,
   "metadata": {},
   "outputs": [],
   "source": [
    "import os, xmlschema"
   ]
  },
  {
   "cell_type": "code",
   "execution_count": null,
   "metadata": {},
   "outputs": [],
   "source": [
    "from IPython.display import display, Markdown"
   ]
  },
  {
   "cell_type": "markdown",
   "metadata": {},
   "source": [
    "### apenas lê os arquivos, sem apresenta-los"
   ]
  },
  {
   "cell_type": "code",
   "execution_count": null,
   "metadata": {},
   "outputs": [],
   "source": [
    "# def process_xsd_files(directory):\n",
    "#     # Itera sobre todos os arquivos na pasta fornecida\n",
    "#     for filename in os.listdir(directory):\n",
    "#         if filename.endswith(\".xsd\"):\n",
    "#             xsd_path = os.path.join(directory, filename)\n",
    "#             try:\n",
    "#                 # Carrega o esquema XSD\n",
    "#                 schema = xmlschema.XMLSchema(xsd_path)\n",
    "                \n",
    "#                 # Exibe informações sobre o esquema (opcional)\n",
    "#                 print(f\"Arquivo XSD: {filename}\")\n",
    "#                 print(\"Elementos:\")\n",
    "#                 for elem in schema.elements:\n",
    "#                     print(f\" - {elem}\")\n",
    "#                 print()\n",
    "#             except xmlschema.XMLSchemaException as e:\n",
    "#                 print(f\"Erro ao processar {filename}: {e}\")"
   ]
  },
  {
   "cell_type": "markdown",
   "metadata": {},
   "source": [
    "### processo xsd e apresenta"
   ]
  },
  {
   "cell_type": "code",
   "execution_count": 10,
   "metadata": {},
   "outputs": [],
   "source": [
    "# Caminho para a pasta contendo os arquivos XSD\n",
    "directory_path = r\"C:\\Users\\silva\\OneDrive\\Desktop\\eSOCIALxsl\"\n",
    "process_xsd_files(directory_path)"
   ]
  },
  {
   "cell_type": "code",
   "execution_count": null,
   "metadata": {},
   "outputs": [],
   "source": [
    "def process_xsd_files(directory):\n",
    "    # Itera sobre todos os arquivos na pasta fornecida\n",
    "    for filename in os.listdir(directory):\n",
    "        if filename.endswith(\".xsd\"):\n",
    "            xsd_path = os.path.join(directory, filename)\n",
    "            try:\n",
    "                # Carrega o esquema XSD\n",
    "                schema = xmlschema.XMLSchema(xsd_path)\n",
    "                \n",
    "                # Apresenta o nome do arquivo\n",
    "                display(Markdown(f\"## Arquivo XSD: {filename}\"))\n",
    "\n",
    "                # Apresenta os elementos do esquema\n",
    "                display(Markdown(\"### Elementos:\"))\n",
    "                elements_md = \"\\n\".join([f\"- `{elem}`\" for elem in schema.elements])\n",
    "                display(Markdown(elements_md))\n",
    "                \n",
    "                # Opcional: exibe o conteúdo do XSD como texto formatado\n",
    "                with open(xsd_path, 'r', encoding='utf-8') as file:\n",
    "                    content = file.read()\n",
    "                display(Markdown(\"### Conteúdo do XSD:\"))\n",
    "                display(Markdown(f\"```xml\\n{content}\\n```\"))\n",
    "                \n",
    "            except xmlschema.XMLSchemaException as e:\n",
    "                display(Markdown(f\"**Erro ao processar {filename}:** {e}\"))"
   ]
  },
  {
   "cell_type": "code",
   "execution_count": null,
   "metadata": {},
   "outputs": [],
   "source": []
  },
  {
   "cell_type": "code",
   "execution_count": null,
   "metadata": {},
   "outputs": [],
   "source": []
  },
  {
   "cell_type": "code",
   "execution_count": null,
   "metadata": {},
   "outputs": [],
   "source": []
  }
 ],
 "metadata": {
  "kernelspec": {
   "display_name": "Python 3",
   "language": "python",
   "name": "python3"
  },
  "language_info": {
   "codemirror_mode": {
    "name": "ipython",
    "version": 3
   },
   "file_extension": ".py",
   "mimetype": "text/x-python",
   "name": "python",
   "nbconvert_exporter": "python",
   "pygments_lexer": "ipython3",
   "version": "3.12.4"
  }
 },
 "nbformat": 4,
 "nbformat_minor": 2
}
